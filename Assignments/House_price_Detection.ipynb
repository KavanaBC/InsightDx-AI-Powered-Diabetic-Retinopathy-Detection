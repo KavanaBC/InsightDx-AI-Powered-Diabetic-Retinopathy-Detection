{
 "cells": [
  {
   "cell_type": "code",
   "execution_count": 41,
   "id": "f7b5b40b-ee99-4b48-9183-60612a6f4ca8",
   "metadata": {},
   "outputs": [
    {
     "name": "stdout",
     "output_type": "stream",
     "text": [
      "Index(['Index', 'Title', 'Description', 'Amount(in rupees)',\n",
      "       'Price (in rupees)', 'location', 'Carpet Area', 'Status', 'Floor',\n",
      "       'Transaction', 'Furnishing', 'facing', 'overlooking', 'Society',\n",
      "       'Bathroom', 'Balcony', 'Car Parking', 'Ownership', 'Super Area',\n",
      "       'Dimensions', 'Plot Area'],\n",
      "      dtype='object')\n"
     ]
    }
   ],
   "source": [
    "print(df.columns)"
   ]
  },
  {
   "cell_type": "code",
   "execution_count": 42,
   "id": "83332d96-c9ef-4c1f-9ee6-f81927691186",
   "metadata": {},
   "outputs": [
    {
     "name": "stdout",
     "output_type": "stream",
     "text": [
      "(187531, 21)\n"
     ]
    }
   ],
   "source": [
    "# Handle missing values for 'Status' (instead of 'Possession Status')\n",
    "if 'Status' in df.columns:\n",
    "    df['Status'] = df['Status'].fillna(df['Status'].mode()[0])\n",
    "\n",
    "# Similarly, for other columns like 'Availability' (if it exists in your dataset)\n",
    "# Check for other columns and fill missing values as required\n",
    "\n",
    "# Handle missing values for other columns based on data type:\n",
    "df['Carpet Area'] = df['Carpet Area'].fillna(df['Carpet Area'].median())\n",
    "df['Price (in rupees)'] = df['Price (in rupees)'].fillna(df['Price (in rupees)'].median())\n",
    "df['Amount(in rupees)'] = df['Amount(in rupees)'].fillna(df['Amount(in rupees)'].median())\n",
    "df['Floor'] = df['Floor'].fillna(df['Floor'].mode()[0])  # Most frequent value for categorical data\n",
    "\n",
    "# For categorical columns, fill missing values with the mode (most frequent value)\n",
    "# For example, 'Furnishing' and 'facing' (if required)\n",
    "\n",
    "df['Furnishing'] = df['Furnishing'].fillna(df['Furnishing'].mode()[0])\n",
    "df['facing'] = df['facing'].fillna(df['facing'].mode()[0])\n",
    "\n",
    "# Check the shape of the dataframe after filling missing values\n",
    "print(df.shape)\n"
   ]
  },
  {
   "cell_type": "code",
   "execution_count": 44,
   "id": "feff8900-3498-4159-8501-b2b86f0a1251",
   "metadata": {},
   "outputs": [],
   "source": [
    "# Remove non-numeric characters (like ' sqft') and convert the values to float\n",
    "df['Super Area'] = df['Super Area'].replace(r'\\D', '', regex=True).astype(float)\n",
    "\n",
    "# Now, attempt to convert the other columns again\n",
    "df['Carpet Area'] = df['Carpet Area'].astype(float)\n",
    "df['Price (in rupees)'] = df['Price (in rupees)'].astype(float)\n",
    "df['Amount(in rupees)'] = df['Amount(in rupees)'].astype(float)\n",
    "df['Plot Area'] = df['Plot Area'].astype(float)\n"
   ]
  },
  {
   "cell_type": "code",
   "execution_count": null,
   "id": "4250917a-7bd0-4bed-9a42-c432f5cfde91",
   "metadata": {},
   "outputs": [
    {
     "name": "stdout",
     "output_type": "stream",
     "text": [
      "Description      3023\n",
      "overlooking     81436\n",
      "Plot Area      187531\n",
      "dtype: int64\n"
     ]
    }
   ],
   "source": [
    "# Handle missing values for categorical columns\n",
    "def fill_with_mode_or_default(column):\n",
    "    mode_value = column.mode()\n",
    "    if not mode_value.empty:\n",
    "        return column.fillna(mode_value[0])\n",
    "    else:\n",
    "        return column.fillna('Unknown')  # or another appropriate default value\n",
    "\n",
    "# Apply this function to categorical columns\n",
    "df['Status'] = fill_with_mode_or_default(df['Status'])\n",
    "df['Floor'] = fill_with_mode_or_default(df['Floor'])\n",
    "df['Furnishing'] = fill_with_mode_or_default(df['Furnishing'])\n",
    "df['facing'] = fill_with_mode_or_default(df['facing'])\n",
    "df['Society'] = fill_with_mode_or_default(df['Society'])\n",
    "df['Bathroom'] = fill_with_mode_or_default(df['Bathroom'])\n",
    "df['Balcony'] = fill_with_mode_or_default(df['Balcony'])\n",
    "df['Car Parking'] = fill_with_mode_or_default(df['Car Parking'])\n",
    "df['Ownership'] = fill_with_mode_or_default(df['Ownership'])\n",
    "df['Transaction'] = fill_with_mode_or_default(df['Transaction'])\n",
    "df['Dimensions'] = fill_with_mode_or_default(df['Dimensions'])\n",
    "\n",
    "# Check for any remaining missing values\n",
    "missing_values = df.isnull().sum()\n",
    "print(missing_values[missing_values > 0])\n"
   ]
  },
  {
   "cell_type": "code",
   "execution_count": 47,
   "id": "9a1c376c-f529-410c-ad6d-d4ccc71ad556",
   "metadata": {},
   "outputs": [
    {
     "name": "stderr",
     "output_type": "stream",
     "text": [
      "D:\\Dell_Internship\\venv\\Lib\\site-packages\\numpy\\lib\\_nanfunctions_impl.py:1215: RuntimeWarning: Mean of empty slice\n",
      "  return np.nanmean(a, axis, out=out, keepdims=keepdims)\n"
     ]
    },
    {
     "name": "stdout",
     "output_type": "stream",
     "text": [
      "Plot Area    187531\n",
      "dtype: int64\n"
     ]
    }
   ],
   "source": [
    "# Fill 'Description' with a placeholder\n",
    "df['Description'] = df['Description'].fillna('No description available')\n",
    "\n",
    "# Fill 'overlooking' with the mode (most frequent value)\n",
    "df['overlooking'] = df['overlooking'].fillna(df['overlooking'].mode()[0])\n",
    "\n",
    "# Fill 'Plot Area' with the median (or mean if more appropriate)\n",
    "df['Plot Area'] = df['Plot Area'].fillna(df['Plot Area'].median())  # or use mean()\n",
    "\n",
    "# Check for any remaining missing values\n",
    "missing_values = df.isnull().sum()\n",
    "print(missing_values[missing_values > 0])\n"
   ]
  },
  {
   "cell_type": "code",
   "execution_count": 48,
   "id": "549189d7-6e1c-4a24-a8ef-8b000d842d74",
   "metadata": {},
   "outputs": [
    {
     "name": "stdout",
     "output_type": "stream",
     "text": [
      "Series([], dtype: int64)\n"
     ]
    }
   ],
   "source": [
    "# Drop 'Plot Area' column since it contains only missing values\n",
    "df = df.drop(columns=['Plot Area'])\n",
    "\n",
    "# Check if any columns still have missing values\n",
    "missing_values = df.isnull().sum()\n",
    "print(missing_values[missing_values > 0])\n"
   ]
  },
  {
   "cell_type": "code",
   "execution_count": 49,
   "id": "992cc8bf-a3b3-4c09-9f46-3b4256c5124e",
   "metadata": {},
   "outputs": [
    {
     "name": "stdout",
     "output_type": "stream",
     "text": [
      "0\n"
     ]
    }
   ],
   "source": [
    "# Drop duplicate rows if any\n",
    "df = df.drop_duplicates()\n",
    "\n",
    "# Check if any duplicates remain\n",
    "print(df.duplicated().sum())\n"
   ]
  },
  {
   "cell_type": "code",
   "execution_count": 51,
   "id": "7c766cce-37c4-4c48-a935-96f04c3e0c46",
   "metadata": {},
   "outputs": [],
   "source": [
    "# Detecting outliers using IQR (Interquartile Range)\n",
    "Q1 = df['Price (in rupees)'].quantile(0.25)\n",
    "Q3 = df['Price (in rupees)'].quantile(0.75)\n",
    "IQR = Q3 - Q1\n",
    "outlier_threshold_lower = Q1 - 1.5 * IQR\n",
    "outlier_threshold_upper = Q3 + 1.5 * IQR\n",
    "\n",
    "# Filter out outliers\n",
    "df = df[(df['Price (in rupees)'] >= outlier_threshold_lower) & (df['Price (in rupees)'] <= outlier_threshold_upper)]\n"
   ]
  },
  {
   "cell_type": "code",
   "execution_count": 52,
   "id": "ba129c6e-38c0-4b1d-83ec-e5653f1ae34e",
   "metadata": {},
   "outputs": [
    {
     "name": "stdout",
     "output_type": "stream",
     "text": [
      "   Price (in rupees)  Amount(in rupees)  Super Area  Carpet Area\n",
      "0          -0.099417           0.125157   -0.019607    -0.246424\n",
      "3          -0.085880          -0.435147   -0.019607    -0.233863\n",
      "5           0.146636           0.224034   -0.436424    -0.037074\n",
      "6          -1.477794          -0.715299   -0.019607    -0.225489\n",
      "7           1.666354           0.718420   -0.513206    -0.037074\n"
     ]
    }
   ],
   "source": [
    "from sklearn.preprocessing import StandardScaler\n",
    "\n",
    "# Select numerical columns to scale\n",
    "numerical_columns = ['Price (in rupees)', 'Amount(in rupees)', 'Super Area', 'Carpet Area']\n",
    "\n",
    "# Initialize the scaler\n",
    "scaler = StandardScaler()\n",
    "\n",
    "# Fit and transform the data\n",
    "df[numerical_columns] = scaler.fit_transform(df[numerical_columns])\n",
    "\n",
    "# Verify the scaling\n",
    "print(df[numerical_columns].head())\n",
    "\n"
   ]
  },
  {
   "cell_type": "code",
   "execution_count": 53,
   "id": "73b744ee-85e9-4257-8b17-6cc5c98053b0",
   "metadata": {},
   "outputs": [
    {
     "name": "stdout",
     "output_type": "stream",
     "text": [
      "   Index                                              Title  \\\n",
      "0      0  1 BHK Ready to Occupy Flat for sale in Srushti...   \n",
      "3      3        1 BHK Ready to Occupy Flat for sale Kasheli   \n",
      "5      5  1 BHK Ready to Occupy Flat for sale in Virat A...   \n",
      "6      6         1 BHK Ready to Occupy Flat for sale Mumbra   \n",
      "7      7          1 BHK Ready to Occupy Flat for sale Kalwa   \n",
      "\n",
      "                                         Description  Amount(in rupees)  \\\n",
      "0  Bhiwandi, Thane has an attractive 1 BHK Flat f...           0.125157   \n",
      "3  This beautiful 1 BHK Flat is available for sal...          -0.435147   \n",
      "5  Creatively planned and constructed is a 1 BHK ...           0.224034   \n",
      "6  This magnificent 1 BHK Flat is available for s...          -0.715299   \n",
      "7  Creatively planned and constructed is a 1 BHK ...           0.718420   \n",
      "\n",
      "   Price (in rupees) location  Carpet Area         Status            Floor  \\\n",
      "0          -0.099417    thane    -0.246424  Ready to Move     10 out of 11   \n",
      "3          -0.085880    thane    -0.233863  Ready to Move       1 out of 3   \n",
      "5           0.146636    thane    -0.037074  Ready to Move       2 out of 7   \n",
      "6          -1.477794    thane    -0.225489  Ready to Move       4 out of 5   \n",
      "7           1.666354    thane    -0.037074  Ready to Move  Ground out of 7   \n",
      "\n",
      "              overlooking  ...  Car Parking_9 Covered Car Parking_9 Covered,  \\\n",
      "0               Main Road  ...                  False                  False   \n",
      "3               Main Road  ...                  False                  False   \n",
      "5  Garden/Park, Main Road  ...                  False                  False   \n",
      "6               Main Road  ...                  False                  False   \n",
      "7               Main Road  ...                  False                  False   \n",
      "\n",
      "   Car Parking_9 Open  Car Parking_90 Covered,  Car Parking_901 Covered  \\\n",
      "0               False                    False                    False   \n",
      "3               False                    False                    False   \n",
      "5               False                    False                    False   \n",
      "6               False                    False                    False   \n",
      "7               False                    False                    False   \n",
      "\n",
      "   Car Parking_903 Covered  Car Parking_908 Covered  Car Parking_98 Covered  \\\n",
      "0                    False                    False                   False   \n",
      "3                    False                    False                   False   \n",
      "5                    False                    False                   False   \n",
      "6                    False                    False                   False   \n",
      "7                    False                    False                   False   \n",
      "\n",
      "   Car Parking_999 Covered  Car Parking_999 Open  \n",
      "0                    False                 False  \n",
      "3                    False                 False  \n",
      "5                    False                 False  \n",
      "6                    False                 False  \n",
      "7                    False                 False  \n",
      "\n",
      "[5 rows x 9907 columns]\n"
     ]
    }
   ],
   "source": [
    "# Perform one-hot encoding on categorical columns\n",
    "df_encoded = pd.get_dummies(df, columns=['Ownership', 'Transaction', 'Furnishing', 'facing', 'Society', 'Bathroom', 'Balcony', 'Car Parking'], drop_first=True)\n",
    "\n",
    "# Verify the encoding\n",
    "print(df_encoded.head())\n"
   ]
  },
  {
   "cell_type": "code",
   "execution_count": 54,
   "id": "6860a07f-25b1-4b38-86ab-f6ea119f87d9",
   "metadata": {},
   "outputs": [
    {
     "name": "stdout",
     "output_type": "stream",
     "text": [
      "(171490, 9906) (171490,)\n"
     ]
    }
   ],
   "source": [
    "# Define target and features\n",
    "X = df_encoded.drop('Price (in rupees)', axis=1)  # Features\n",
    "y = df_encoded['Price (in rupees)']  # Target\n",
    "\n",
    "# Check the shapes\n",
    "print(X.shape, y.shape)\n"
   ]
  },
  {
   "cell_type": "code",
   "execution_count": 55,
   "id": "2e55d3dc-aec2-4cda-b9dc-4275723c019d",
   "metadata": {},
   "outputs": [
    {
     "name": "stdout",
     "output_type": "stream",
     "text": [
      "(137192, 9906) (34298, 9906) (137192,) (34298,)\n"
     ]
    }
   ],
   "source": [
    "from sklearn.model_selection import train_test_split\n",
    "\n",
    "# Split data into training and testing sets (80% training, 20% testing)\n",
    "X_train, X_test, y_train, y_test = train_test_split(X, y, test_size=0.2, random_state=42)\n",
    "\n",
    "# Verify the shapes\n",
    "print(X_train.shape, X_test.shape, y_train.shape, y_test.shape)\n"
   ]
  },
  {
   "cell_type": "code",
   "execution_count": 58,
   "id": "a7ef8afb-b568-47c7-860d-6c6e4dc78a61",
   "metadata": {},
   "outputs": [
    {
     "name": "stdout",
     "output_type": "stream",
     "text": [
      "Index(['Index', 'Title', 'Amount(in rupees)', 'Price (in rupees)', 'location',\n",
      "       'Carpet Area', 'Status', 'Floor', 'Transaction', 'Furnishing', 'facing',\n",
      "       'overlooking', 'Society', 'Bathroom', 'Balcony', 'Car Parking',\n",
      "       'Ownership', 'Super Area', 'Dimensions'],\n",
      "      dtype='object')\n"
     ]
    }
   ],
   "source": [
    "print(df.columns)"
   ]
  },
  {
   "cell_type": "code",
   "execution_count": 59,
   "id": "f1d048d2-a7b1-4380-846a-241d5c128817",
   "metadata": {},
   "outputs": [],
   "source": [
    "# Drop the 'Title' column if it's not useful for prediction\n",
    "df = df.drop(columns=['Title'])\n",
    "\n",
    "# Now, you can proceed with your model training\n"
   ]
  },
  {
   "cell_type": "code",
   "execution_count": 60,
   "id": "08ddddd0-87fe-4e70-8fa4-470215c463f1",
   "metadata": {},
   "outputs": [
    {
     "name": "stdout",
     "output_type": "stream",
     "text": [
      "(137192, 17) (34298, 17) (137192,) (34298,)\n"
     ]
    }
   ],
   "source": [
    "# Separate features (X) and target variable (y)\n",
    "X = df.drop(columns=['Price (in rupees)'])  # Assuming 'Price (in rupees)' is your target variable\n",
    "y = df['Price (in rupees)']\n",
    "\n",
    "# Split the dataset into training and test sets (80% training, 20% testing)\n",
    "from sklearn.model_selection import train_test_split\n",
    "X_train, X_test, y_train, y_test = train_test_split(X, y, test_size=0.2, random_state=42)\n",
    "\n",
    "# Check the shapes of the resulting datasets\n",
    "print(X_train.shape, X_test.shape, y_train.shape, y_test.shape)\n"
   ]
  },
  {
   "cell_type": "code",
   "execution_count": 62,
   "id": "ba007257-91aa-48a7-8521-b8b0add00855",
   "metadata": {},
   "outputs": [
    {
     "name": "stdout",
     "output_type": "stream",
     "text": [
      "Categorical columns: Index(['location', 'Status', 'Floor', 'Transaction', 'Furnishing', 'facing',\n",
      "       'overlooking', 'Society', 'Bathroom', 'Balcony', 'Car Parking',\n",
      "       'Ownership', 'Dimensions'],\n",
      "      dtype='object')\n"
     ]
    }
   ],
   "source": [
    "# Check the data types of each column\n",
    "categorical_columns = X.select_dtypes(include=['object']).columns\n",
    "print(\"Categorical columns:\", categorical_columns)\n"
   ]
  },
  {
   "cell_type": "code",
   "execution_count": 63,
   "id": "d84df0bc-7102-4018-aec9-2659be0af1c0",
   "metadata": {},
   "outputs": [
    {
     "name": "stdout",
     "output_type": "stream",
     "text": [
      "   Index  Amount(in rupees) location  Carpet Area  Status            Floor  \\\n",
      "0      0           0.125157    thane    -0.246424       0     10 out of 11   \n",
      "3      3          -0.435147    thane    -0.233863       0       1 out of 3   \n",
      "5      5           0.224034    thane    -0.037074       0       2 out of 7   \n",
      "6      6          -0.715299    thane    -0.225489       0       4 out of 5   \n",
      "7      7           0.718420    thane    -0.037074       0  Ground out of 7   \n",
      "\n",
      "   Transaction  Furnishing  facing             overlooking  \\\n",
      "0            3           2       0               Main Road   \n",
      "3            3           2       0               Main Road   \n",
      "5            3           2       0  Garden/Park, Main Road   \n",
      "6            3           2       0               Main Road   \n",
      "7            3           0       0               Main Road   \n",
      "\n",
      "                               Society  Bathroom  Balcony  Car Parking  \\\n",
      "0  Srushti Siddhi Mangal Murti Complex         0        2            0   \n",
      "3                     Hamdam Apartment         0        0            0   \n",
      "5                         Virat Aangan         0        0            0   \n",
      "6                     Hamdam Apartment         0        2            0   \n",
      "7                     Hamdam Apartment         0        2            0   \n",
      "\n",
      "              Ownership  Super Area Dimensions  \n",
      "0              Freehold   -0.019607    Unknown  \n",
      "3              Freehold   -0.019607    Unknown  \n",
      "5  Co-operative Society   -0.436424    Unknown  \n",
      "6              Freehold   -0.019607    Unknown  \n",
      "7              Freehold   -0.513206    Unknown  \n"
     ]
    }
   ],
   "source": [
    "from sklearn.preprocessing import LabelEncoder\n",
    "\n",
    "# Initialize the label encoder\n",
    "label_encoder = LabelEncoder()\n",
    "\n",
    "# Apply label encoding to categorical columns\n",
    "categorical_cols_to_encode = ['Status', 'Furnishing', 'Transaction', 'facing', 'Bathroom', 'Balcony', 'Car Parking']\n",
    "\n",
    "for col in categorical_cols_to_encode:\n",
    "    X[col] = label_encoder.fit_transform(X[col])\n",
    "\n",
    "# Check if the encoding was successful\n",
    "print(X.head())\n"
   ]
  },
  {
   "cell_type": "code",
   "execution_count": 64,
   "id": "2db74b2f-4b06-4187-90c5-cc59615dd458",
   "metadata": {},
   "outputs": [
    {
     "name": "stdout",
     "output_type": "stream",
     "text": [
      "   Index  Amount(in rupees)  Carpet Area  Status            Floor  \\\n",
      "0      0           0.125157    -0.246424       0     10 out of 11   \n",
      "3      3          -0.435147    -0.233863       0       1 out of 3   \n",
      "5      5           0.224034    -0.037074       0       2 out of 7   \n",
      "6      6          -0.715299    -0.225489       0       4 out of 5   \n",
      "7      7           0.718420    -0.037074       0  Ground out of 7   \n",
      "\n",
      "   Transaction  Furnishing  facing  Bathroom  Balcony  ...  \\\n",
      "0            3           2       0         0        2  ...   \n",
      "3            3           2       0         0        0  ...   \n",
      "5            3           2       0         0        0  ...   \n",
      "6            3           2       0         0        2  ...   \n",
      "7            3           0       0         0        2  ...   \n",
      "\n",
      "   Society_varsha meadows  Society_vijaya heritage  Society_vishwaketu 2  \\\n",
      "0                   False                    False                 False   \n",
      "3                   False                    False                 False   \n",
      "5                   False                    False                 False   \n",
      "6                   False                    False                 False   \n",
      "7                   False                    False                 False   \n",
      "\n",
      "   Society_visionnaire  Society_yamuna apartment  Society_yash tower  \\\n",
      "0                False                     False               False   \n",
      "3                False                     False               False   \n",
      "5                False                     False               False   \n",
      "6                False                     False               False   \n",
      "7                False                     False               False   \n",
      "\n",
      "   Society_yogi complex  Ownership_Freehold  Ownership_Leasehold  \\\n",
      "0                 False                True                False   \n",
      "3                 False                True                False   \n",
      "5                 False               False                False   \n",
      "6                 False                True                False   \n",
      "7                 False                True                False   \n",
      "\n",
      "   Ownership_Power Of Attorney  \n",
      "0                        False  \n",
      "3                        False  \n",
      "5                        False  \n",
      "6                        False  \n",
      "7                        False  \n",
      "\n",
      "[5 rows x 9747 columns]\n"
     ]
    }
   ],
   "source": [
    "# Apply one-hot encoding to columns with many unique categories\n",
    "X = pd.get_dummies(X, columns=['location', 'overlooking', 'Society', 'Ownership', 'Dimensions'], drop_first=True)\n",
    "\n",
    "# Check the encoded dataframe\n",
    "print(X.head())\n"
   ]
  },
  {
   "cell_type": "code",
   "execution_count": 66,
   "id": "9e942faf-c923-40ff-8cbb-d8322e12078a",
   "metadata": {},
   "outputs": [
    {
     "name": "stdout",
     "output_type": "stream",
     "text": [
      "[ 0  3  2  4  1  5  6  7  8 10  9]\n"
     ]
    }
   ],
   "source": [
    "# Check the unique values in the 'Bathroom' column (or other suspect columns)\n",
    "print(X['Bathroom'].unique())\n"
   ]
  },
  {
   "cell_type": "code",
   "execution_count": 68,
   "id": "f65fae36-f28d-4bcb-a4d1-7bca94f47315",
   "metadata": {},
   "outputs": [
    {
     "name": "stdout",
     "output_type": "stream",
     "text": [
      "[ 0.  3.  2.  4.  1.  5.  6.  7.  8. 10.  9.]\n"
     ]
    }
   ],
   "source": [
    "# Convert all values to string before extracting numbers\n",
    "X['Bathroom'] = X['Bathroom'].astype(str).str.extract(r'(\\d+)').astype(float)\n",
    "\n",
    "# Check unique cleaned values\n",
    "print(X['Bathroom'].unique())\n"
   ]
  },
  {
   "cell_type": "code",
   "execution_count": 69,
   "id": "3807580e-0db3-4c8c-a942-d992c03f5720",
   "metadata": {},
   "outputs": [
    {
     "name": "stdout",
     "output_type": "stream",
     "text": [
      "Index                          0\n",
      "Amount(in rupees)              0\n",
      "Carpet Area                    0\n",
      "Status                         0\n",
      "Floor                          0\n",
      "                              ..\n",
      "Society_yash tower             0\n",
      "Society_yogi complex           0\n",
      "Ownership_Freehold             0\n",
      "Ownership_Leasehold            0\n",
      "Ownership_Power Of Attorney    0\n",
      "Length: 9747, dtype: int64\n"
     ]
    }
   ],
   "source": [
    "print(X.isnull().sum())\n"
   ]
  },
  {
   "cell_type": "code",
   "execution_count": 70,
   "id": "9c5ab324-ffb5-4591-b71c-52ed52d41b1e",
   "metadata": {},
   "outputs": [],
   "source": [
    "X = X.fillna(0)  # or X.dropna() if you want to drop missing rows\n"
   ]
  },
  {
   "cell_type": "code",
   "execution_count": 73,
   "id": "99de2886-5f63-48b4-afa6-2d4be2ab774e",
   "metadata": {},
   "outputs": [],
   "source": [
    "import re\n",
    "\n",
    "def extract_floor(value):\n",
    "    if isinstance(value, str):\n",
    "        match = re.search(r'\\d+', value)\n",
    "        return int(match.group()) if match else None\n",
    "    return value  # In case it's already numeric or NaN\n",
    "\n",
    "X['Floor'] = X['Floor'].apply(extract_floor)\n"
   ]
  },
  {
   "cell_type": "code",
   "execution_count": 74,
   "id": "ac4c23da-fb6c-44fc-a8a5-1396dba10a7b",
   "metadata": {},
   "outputs": [
    {
     "name": "stdout",
     "output_type": "stream",
     "text": [
      "[ 10.   1.   2.   4.   7.   3.   6.  16.   5.  20.  27.  11.   9.  12.\n",
      "  14.  21.  15.   8.  13.  17.  23.  24.  19.  18.  22.  50.  28.  25.\n",
      "  26.  33.  34.  38.  30.  nan  31.  29.  40.  32.  35.  39. 200.]\n",
      "5\n"
     ]
    }
   ],
   "source": [
    "print(X['Floor'].unique())\n",
    "print(X['Floor'].isna().sum())  # Check how many NaNs resulted\n"
   ]
  },
  {
   "cell_type": "code",
   "execution_count": 75,
   "id": "2b1f7d0d-bdfc-497e-88ae-aa9db744a32f",
   "metadata": {},
   "outputs": [],
   "source": [
    "X = X.dropna(subset=['Floor'])\n"
   ]
  },
  {
   "cell_type": "code",
   "execution_count": 77,
   "id": "2373e245-3051-4d2e-ac12-caf4704e5288",
   "metadata": {},
   "outputs": [],
   "source": [
    "numeric_cols = X.select_dtypes(include=['int64', 'float64']).columns\n",
    "X_scaled = scaler.fit_transform(X[numeric_cols])\n"
   ]
  },
  {
   "cell_type": "code",
   "execution_count": 80,
   "id": "b657852a-5c5a-4bf9-b5c2-3d7d8ae42718",
   "metadata": {},
   "outputs": [],
   "source": [
    "# First, align X and y to ensure they have the same index\n",
    "X, y = X.align(y, join='inner', axis=0)\n",
    "\n",
    "# Then scale only numeric columns\n",
    "numeric_cols = X.select_dtypes(include=['int64', 'float64']).columns\n",
    "X_scaled = scaler.fit_transform(X[numeric_cols])\n"
   ]
  },
  {
   "cell_type": "code",
   "execution_count": 82,
   "id": "3a889b75-fd77-430f-997d-eb73b0ca66dc",
   "metadata": {},
   "outputs": [],
   "source": [
    "from sklearn.model_selection import train_test_split\n",
    "\n",
    "X_train, X_test, y_train, y_test = train_test_split(\n",
    "    X_scaled, y, test_size=0.2, random_state=42\n",
    ")\n"
   ]
  },
  {
   "cell_type": "code",
   "execution_count": 86,
   "id": "54054550-1876-4afb-8455-44547ef76f68",
   "metadata": {},
   "outputs": [
    {
     "name": "stdout",
     "output_type": "stream",
     "text": [
      "Linear Regression - Mean Squared Error: 0.7631589271554344\n",
      "Linear Regression - R² Score: 0.2387876371160076\n"
     ]
    }
   ],
   "source": [
    "from sklearn.linear_model import LinearRegression\n",
    "from sklearn.metrics import mean_squared_error, r2_score\n",
    "\n",
    "# Initialize and train the Linear Regression model\n",
    "lin_reg_model = LinearRegression()\n",
    "lin_reg_model.fit(X_train, y_train)\n",
    "\n",
    "# Predict on the test set\n",
    "y_pred_lr = lin_reg_model.predict(X_test)\n",
    "\n",
    "# Evaluate the model\n",
    "print(\"Linear Regression - Mean Squared Error:\", mean_squared_error(y_test, y_pred_lr))\n",
    "print(\"Linear Regression - R² Score:\", r2_score(y_test, y_pred_lr))\n"
   ]
  },
  {
   "cell_type": "code",
   "execution_count": 85,
   "id": "cfa37309-459f-4150-ac08-19741f9c8f60",
   "metadata": {},
   "outputs": [
    {
     "name": "stdout",
     "output_type": "stream",
     "text": [
      "DTR - Mean Squared Error: 0.06992486248612542\n",
      "DTR - R² Score: 0.9302534925512825\n"
     ]
    }
   ],
   "source": [
    "from sklearn.tree import DecisionTreeRegressor\n",
    "from sklearn.metrics import mean_squared_error, r2_score\n",
    "\n",
    "# Initialize and train the Decision Tree Regressor\n",
    "dtr_model = DecisionTreeRegressor(random_state=42)\n",
    "dtr_model.fit(X_train, y_train)\n",
    "\n",
    "# Predict on the test set\n",
    "y_pred_dtr = dtr_model.predict(X_test)\n",
    "\n",
    "# Evaluate the model\n",
    "print(\"DTR - Mean Squared Error:\", mean_squared_error(y_test, y_pred_dtr))\n",
    "print(\"DTR - R² Score:\", r2_score(y_test, y_pred_dtr))\n"
   ]
  },
  {
   "cell_type": "code",
   "execution_count": null,
   "id": "b9f6b3a6-d3cc-4d19-9b07-ce53b127fad0",
   "metadata": {},
   "outputs": [],
   "source": []
  }
 ],
 "metadata": {
  "kernelspec": {
   "display_name": "Python (venv)",
   "language": "python",
   "name": "venv"
  },
  "language_info": {
   "codemirror_mode": {
    "name": "ipython",
    "version": 3
   },
   "file_extension": ".py",
   "mimetype": "text/x-python",
   "name": "python",
   "nbconvert_exporter": "python",
   "pygments_lexer": "ipython3",
   "version": "3.12.7"
  }
 },
 "nbformat": 4,
 "nbformat_minor": 5
}
