{
 "cells": [
  {
   "cell_type": "markdown",
   "id": "6756cee6-7298-4bca-b0e7-fdd8d56f218a",
   "metadata": {},
   "source": [
    "# Day_08 - Linear Regression"
   ]
  },
  {
   "cell_type": "markdown",
   "id": "fccad11c-addd-4c32-862b-f68e311ff532",
   "metadata": {},
   "source": [
    "## a. Using Scikit-learn:"
   ]
  },
  {
   "cell_type": "code",
   "execution_count": 1,
   "id": "308246db-cc5c-48ef-b1b4-467fc85235c2",
   "metadata": {},
   "outputs": [
    {
     "name": "stdout",
     "output_type": "stream",
     "text": [
      "Linear Regression Equation: y = 2.05 + 1.25x\n"
     ]
    }
   ],
   "source": [
    "# a. Using Scikit-learn\n",
    "from sklearn.linear_model import LinearRegression\n",
    "import numpy as np\n",
    "\n",
    "# Dataset\n",
    "X = np.array([2, 4, 5, 7, 8]).reshape(-1, 1)\n",
    "Y = np.array([4.2, 8.5, 7.1, 10.6, 12.3])\n",
    "\n",
    "# Model\n",
    "model = LinearRegression()\n",
    "model.fit(X, Y)\n",
    "\n",
    "# Get slope and intercept\n",
    "b = model.coef_[0]\n",
    "a = model.intercept_\n",
    "\n",
    "# Display\n",
    "print(f\"Linear Regression Equation: y = {a:.2f} + {b:.2f}x\")\n"
   ]
  },
  {
   "cell_type": "markdown",
   "id": "7729e863-7962-4314-9dc3-9131ad0e8492",
   "metadata": {},
   "source": [
    "## (b) Without Using Scikit-learn"
   ]
  },
  {
   "cell_type": "code",
   "execution_count": 2,
   "id": "424a894a-cb17-4a3a-868e-244c23fdab23",
   "metadata": {},
   "outputs": [
    {
     "name": "stdout",
     "output_type": "stream",
     "text": [
      "Manual Linear Regression Equation: y = 2.05 + 1.25x\n"
     ]
    }
   ],
   "source": [
    "# b. Manual calculation\n",
    "X = [2, 4, 5, 7, 8]\n",
    "Y = [4.2, 8.5, 7.1, 10.6, 12.3]\n",
    "\n",
    "n = len(X)\n",
    "mean_x = sum(X) / n\n",
    "mean_y = sum(Y) / n\n",
    "\n",
    "# Covariance and Variance\n",
    "cov_xy = sum((X[i] - mean_x) * (Y[i] - mean_y) for i in range(n)) / n\n",
    "var_x = sum((X[i] - mean_x)**2 for i in range(n)) / n\n",
    "\n",
    "# Slope and Intercept\n",
    "b = cov_xy / var_x\n",
    "a = mean_y - b * mean_x\n",
    "\n",
    "# Display\n",
    "print(f\"Manual Linear Regression Equation: y = {a:.2f} + {b:.2f}x\")\n"
   ]
  },
  {
   "cell_type": "code",
   "execution_count": null,
   "id": "3f14c0fe-c459-488b-8421-8ae294122420",
   "metadata": {},
   "outputs": [],
   "source": []
  }
 ],
 "metadata": {
  "kernelspec": {
   "display_name": "Python (venv)",
   "language": "python",
   "name": "venv"
  },
  "language_info": {
   "codemirror_mode": {
    "name": "ipython",
    "version": 3
   },
   "file_extension": ".py",
   "mimetype": "text/x-python",
   "name": "python",
   "nbconvert_exporter": "python",
   "pygments_lexer": "ipython3",
   "version": "3.12.7"
  }
 },
 "nbformat": 4,
 "nbformat_minor": 5
}
